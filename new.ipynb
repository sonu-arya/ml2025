{
 "cells": [
  {
   "cell_type": "code",
   "execution_count": 2,
   "id": "99be8358-b3c6-4ef2-b100-6f653be7c36b",
   "metadata": {},
   "outputs": [
    {
     "data": {
      "text/plain": [
       "20"
      ]
     },
     "execution_count": 2,
     "metadata": {},
     "output_type": "execute_result"
    }
   ],
   "source": [
    "10+10\n"
   ]
  },
  {
   "cell_type": "markdown",
   "id": "16b636df-14b5-451f-9b6e-c037ae22e65f",
   "metadata": {},
   "source": [
    "ghfhghjfjhhjfhfj\n",
    "kjbkjg\n",
    "kjgjh\n",
    "jvjhfhuf"
   ]
  }
 ],
 "metadata": {
  "kernelspec": {
   "display_name": "Python [conda env:base] *",
   "language": "python",
   "name": "conda-base-py"
  },
  "language_info": {
   "codemirror_mode": {
    "name": "ipython",
    "version": 3
   },
   "file_extension": ".py",
   "mimetype": "text/x-python",
   "name": "python",
   "nbconvert_exporter": "python",
   "pygments_lexer": "ipython3",
   "version": "3.13.5"
  }
 },
 "nbformat": 4,
 "nbformat_minor": 5
}
